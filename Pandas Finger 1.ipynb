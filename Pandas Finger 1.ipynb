{
 "cells": [
  {
   "cell_type": "code",
   "execution_count": 43,
   "metadata": {
    "collapsed": true
   },
   "outputs": [],
   "source": [
    "import pandas as pd\n",
    "import numpy as np\n",
    "#import seaborn as sns\n",
    "import matplotlib.pyplot as plt\n",
    "%matplotlib inline"
   ]
  },
  {
   "cell_type": "code",
   "execution_count": 44,
   "metadata": {
    "collapsed": true
   },
   "outputs": [],
   "source": [
    "trip = pd.read_csv('trip.csv')"
   ]
  },
  {
   "cell_type": "code",
   "execution_count": 45,
   "metadata": {
    "collapsed": false
   },
   "outputs": [
    {
     "data": {
      "text/html": [
       "<div>\n",
       "<table border=\"1\" class=\"dataframe\">\n",
       "  <thead>\n",
       "    <tr style=\"text-align: right;\">\n",
       "      <th></th>\n",
       "      <th>id</th>\n",
       "      <th>duration</th>\n",
       "      <th>start_date</th>\n",
       "      <th>start_station_name</th>\n",
       "      <th>start_station_id</th>\n",
       "      <th>end_date</th>\n",
       "      <th>end_station_name</th>\n",
       "      <th>end_station_id</th>\n",
       "      <th>bike_id</th>\n",
       "      <th>subscription_type</th>\n",
       "      <th>zip_code</th>\n",
       "    </tr>\n",
       "  </thead>\n",
       "  <tbody>\n",
       "    <tr>\n",
       "      <th>0</th>\n",
       "      <td>4576</td>\n",
       "      <td>63</td>\n",
       "      <td>8/29/2013 14:13</td>\n",
       "      <td>South Van Ness at Market</td>\n",
       "      <td>66</td>\n",
       "      <td>8/29/2013 14:14</td>\n",
       "      <td>South Van Ness at Market</td>\n",
       "      <td>66</td>\n",
       "      <td>520</td>\n",
       "      <td>Subscriber</td>\n",
       "      <td>94127</td>\n",
       "    </tr>\n",
       "    <tr>\n",
       "      <th>1</th>\n",
       "      <td>4607</td>\n",
       "      <td>70</td>\n",
       "      <td>8/29/2013 14:42</td>\n",
       "      <td>San Jose City Hall</td>\n",
       "      <td>10</td>\n",
       "      <td>8/29/2013 14:43</td>\n",
       "      <td>San Jose City Hall</td>\n",
       "      <td>10</td>\n",
       "      <td>661</td>\n",
       "      <td>Subscriber</td>\n",
       "      <td>95138</td>\n",
       "    </tr>\n",
       "    <tr>\n",
       "      <th>2</th>\n",
       "      <td>4130</td>\n",
       "      <td>71</td>\n",
       "      <td>8/29/2013 10:16</td>\n",
       "      <td>Mountain View City Hall</td>\n",
       "      <td>27</td>\n",
       "      <td>8/29/2013 10:17</td>\n",
       "      <td>Mountain View City Hall</td>\n",
       "      <td>27</td>\n",
       "      <td>48</td>\n",
       "      <td>Subscriber</td>\n",
       "      <td>97214</td>\n",
       "    </tr>\n",
       "    <tr>\n",
       "      <th>3</th>\n",
       "      <td>4251</td>\n",
       "      <td>77</td>\n",
       "      <td>8/29/2013 11:29</td>\n",
       "      <td>San Jose City Hall</td>\n",
       "      <td>10</td>\n",
       "      <td>8/29/2013 11:30</td>\n",
       "      <td>San Jose City Hall</td>\n",
       "      <td>10</td>\n",
       "      <td>26</td>\n",
       "      <td>Subscriber</td>\n",
       "      <td>95060</td>\n",
       "    </tr>\n",
       "    <tr>\n",
       "      <th>4</th>\n",
       "      <td>4299</td>\n",
       "      <td>83</td>\n",
       "      <td>8/29/2013 12:02</td>\n",
       "      <td>South Van Ness at Market</td>\n",
       "      <td>66</td>\n",
       "      <td>8/29/2013 12:04</td>\n",
       "      <td>Market at 10th</td>\n",
       "      <td>67</td>\n",
       "      <td>319</td>\n",
       "      <td>Subscriber</td>\n",
       "      <td>94103</td>\n",
       "    </tr>\n",
       "  </tbody>\n",
       "</table>\n",
       "</div>"
      ],
      "text/plain": [
       "     id  duration       start_date        start_station_name  \\\n",
       "0  4576        63  8/29/2013 14:13  South Van Ness at Market   \n",
       "1  4607        70  8/29/2013 14:42        San Jose City Hall   \n",
       "2  4130        71  8/29/2013 10:16   Mountain View City Hall   \n",
       "3  4251        77  8/29/2013 11:29        San Jose City Hall   \n",
       "4  4299        83  8/29/2013 12:02  South Van Ness at Market   \n",
       "\n",
       "   start_station_id         end_date          end_station_name  \\\n",
       "0                66  8/29/2013 14:14  South Van Ness at Market   \n",
       "1                10  8/29/2013 14:43        San Jose City Hall   \n",
       "2                27  8/29/2013 10:17   Mountain View City Hall   \n",
       "3                10  8/29/2013 11:30        San Jose City Hall   \n",
       "4                66  8/29/2013 12:04            Market at 10th   \n",
       "\n",
       "   end_station_id  bike_id subscription_type zip_code  \n",
       "0              66      520        Subscriber    94127  \n",
       "1              10      661        Subscriber    95138  \n",
       "2              27       48        Subscriber    97214  \n",
       "3              10       26        Subscriber    95060  \n",
       "4              67      319        Subscriber    94103  "
      ]
     },
     "execution_count": 45,
     "metadata": {},
     "output_type": "execute_result"
    }
   ],
   "source": [
    "trip.head()"
   ]
  },
  {
   "cell_type": "code",
   "execution_count": 46,
   "metadata": {
    "collapsed": false
   },
   "outputs": [
    {
     "data": {
      "text/plain": [
       "id                     int64\n",
       "duration               int64\n",
       "start_date            object\n",
       "start_station_name    object\n",
       "start_station_id       int64\n",
       "end_date              object\n",
       "end_station_name      object\n",
       "end_station_id         int64\n",
       "bike_id                int64\n",
       "subscription_type     object\n",
       "zip_code              object\n",
       "dtype: object"
      ]
     },
     "execution_count": 46,
     "metadata": {},
     "output_type": "execute_result"
    }
   ],
   "source": [
    "trip.dtypes"
   ]
  },
  {
   "cell_type": "code",
   "execution_count": 47,
   "metadata": {
    "collapsed": false
   },
   "outputs": [
    {
     "data": {
      "text/plain": [
       "0         [8/29/2013, 14:13]\n",
       "1         [8/29/2013, 14:42]\n",
       "2         [8/29/2013, 10:16]\n",
       "3         [8/29/2013, 11:29]\n",
       "4         [8/29/2013, 12:02]\n",
       "5         [8/29/2013, 18:54]\n",
       "6         [8/29/2013, 13:25]\n",
       "7         [8/29/2013, 14:02]\n",
       "8         [8/29/2013, 17:01]\n",
       "9         [8/29/2013, 11:33]\n",
       "10        [8/29/2013, 13:52]\n",
       "11        [8/29/2013, 13:23]\n",
       "12        [8/29/2013, 19:32]\n",
       "13        [8/29/2013, 13:57]\n",
       "14        [8/29/2013, 12:31]\n",
       "15        [8/29/2013, 16:57]\n",
       "16        [8/29/2013, 11:25]\n",
       "17        [8/29/2013, 12:11]\n",
       "18        [8/29/2013, 22:21]\n",
       "19        [8/29/2013, 22:06]\n",
       "20        [8/29/2013, 19:42]\n",
       "21        [8/29/2013, 12:45]\n",
       "22        [8/29/2013, 11:40]\n",
       "23        [8/29/2013, 22:12]\n",
       "24        [8/29/2013, 10:56]\n",
       "25        [8/29/2013, 13:53]\n",
       "26        [8/29/2013, 13:43]\n",
       "27        [8/29/2013, 13:31]\n",
       "28        [8/29/2013, 21:43]\n",
       "29        [8/29/2013, 18:45]\n",
       "                 ...        \n",
       "669929      [9/1/2014, 9:30]\n",
       "669930      [9/1/2014, 9:29]\n",
       "669931      [9/1/2014, 9:29]\n",
       "669932      [9/1/2014, 9:18]\n",
       "669933      [9/1/2014, 9:16]\n",
       "669934      [9/1/2014, 8:58]\n",
       "669935      [9/1/2014, 8:55]\n",
       "669936      [9/1/2014, 8:55]\n",
       "669937      [9/1/2014, 8:49]\n",
       "669938      [9/1/2014, 8:41]\n",
       "669939      [9/1/2014, 8:31]\n",
       "669940      [9/1/2014, 8:31]\n",
       "669941      [9/1/2014, 8:30]\n",
       "669942      [9/1/2014, 8:26]\n",
       "669943      [9/1/2014, 8:24]\n",
       "669944      [9/1/2014, 8:16]\n",
       "669945      [9/1/2014, 8:12]\n",
       "669946      [9/1/2014, 8:11]\n",
       "669947      [9/1/2014, 7:37]\n",
       "669948      [9/1/2014, 7:37]\n",
       "669949      [9/1/2014, 7:32]\n",
       "669950      [9/1/2014, 7:03]\n",
       "669951      [9/1/2014, 6:58]\n",
       "669952      [9/1/2014, 5:54]\n",
       "669953      [9/1/2014, 4:59]\n",
       "669954      [9/1/2014, 4:21]\n",
       "669955      [9/1/2014, 3:16]\n",
       "669956      [9/1/2014, 0:05]\n",
       "669957      [9/1/2014, 0:05]\n",
       "669958      [9/1/2014, 0:05]\n",
       "Name: start_date, dtype: object"
      ]
     },
     "execution_count": 47,
     "metadata": {},
     "output_type": "execute_result"
    }
   ],
   "source": [
    "trip['start_date'].str.split(' ')"
   ]
  },
  {
   "cell_type": "code",
   "execution_count": 48,
   "metadata": {
    "collapsed": false
   },
   "outputs": [],
   "source": [
    "#Separo\n",
    "fechaYHora  = trip['start_date'].str.split(' ')\n",
    "fecha = fechaYHora.map(lambda x:x[0])\n",
    "hora = fechaYHora.map(lambda x: x[1])"
   ]
  },
  {
   "cell_type": "code",
   "execution_count": 49,
   "metadata": {
    "collapsed": false
   },
   "outputs": [],
   "source": [
    "trip = trip.assign(fecha = fecha,hora = hora)"
   ]
  },
  {
   "cell_type": "code",
   "execution_count": 50,
   "metadata": {
    "collapsed": true
   },
   "outputs": [],
   "source": [
    "del trip['start_date']"
   ]
  },
  {
   "cell_type": "code",
   "execution_count": 51,
   "metadata": {
    "collapsed": false
   },
   "outputs": [
    {
     "data": {
      "text/html": [
       "<div>\n",
       "<table border=\"1\" class=\"dataframe\">\n",
       "  <thead>\n",
       "    <tr style=\"text-align: right;\">\n",
       "      <th></th>\n",
       "      <th>id</th>\n",
       "      <th>duration</th>\n",
       "      <th>start_station_name</th>\n",
       "      <th>start_station_id</th>\n",
       "      <th>end_date</th>\n",
       "      <th>end_station_name</th>\n",
       "      <th>end_station_id</th>\n",
       "      <th>bike_id</th>\n",
       "      <th>subscription_type</th>\n",
       "      <th>zip_code</th>\n",
       "      <th>fecha</th>\n",
       "      <th>hora</th>\n",
       "    </tr>\n",
       "  </thead>\n",
       "  <tbody>\n",
       "    <tr>\n",
       "      <th>0</th>\n",
       "      <td>4576</td>\n",
       "      <td>63</td>\n",
       "      <td>South Van Ness at Market</td>\n",
       "      <td>66</td>\n",
       "      <td>8/29/2013 14:14</td>\n",
       "      <td>South Van Ness at Market</td>\n",
       "      <td>66</td>\n",
       "      <td>520</td>\n",
       "      <td>Subscriber</td>\n",
       "      <td>94127</td>\n",
       "      <td>8/29/2013</td>\n",
       "      <td>14:13</td>\n",
       "    </tr>\n",
       "  </tbody>\n",
       "</table>\n",
       "</div>"
      ],
      "text/plain": [
       "     id  duration        start_station_name  start_station_id  \\\n",
       "0  4576        63  South Van Ness at Market                66   \n",
       "\n",
       "          end_date          end_station_name  end_station_id  bike_id  \\\n",
       "0  8/29/2013 14:14  South Van Ness at Market              66      520   \n",
       "\n",
       "  subscription_type zip_code      fecha   hora  \n",
       "0        Subscriber    94127  8/29/2013  14:13  "
      ]
     },
     "execution_count": 51,
     "metadata": {},
     "output_type": "execute_result"
    }
   ],
   "source": [
    "trip.head(1)"
   ]
  }
 ],
 "metadata": {
  "kernelspec": {
   "display_name": "Python [Root]",
   "language": "python",
   "name": "Python [Root]"
  },
  "language_info": {
   "codemirror_mode": {
    "name": "ipython",
    "version": 2
   },
   "file_extension": ".py",
   "mimetype": "text/x-python",
   "name": "python",
   "nbconvert_exporter": "python",
   "pygments_lexer": "ipython2",
   "version": "2.7.12"
  }
 },
 "nbformat": 4,
 "nbformat_minor": 0
}
